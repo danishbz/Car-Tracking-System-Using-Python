{
 "cells": [
  {
   "cell_type": "markdown",
   "id": "5d024680",
   "metadata": {},
   "source": [
    "# Exercise 1.1"
   ]
  },
  {
   "cell_type": "markdown",
   "id": "082aa692",
   "metadata": {},
   "source": [
    "## Install Necessary Packages"
   ]
  },
  {
   "cell_type": "code",
   "execution_count": 5,
   "id": "474b4a5b",
   "metadata": {},
   "outputs": [
    {
     "name": "stdout",
     "output_type": "stream",
     "text": [
      "Requirement already satisfied: opencv-python in c:\\users\\danish\\anaconda3\\envs\\myenv\\lib\\site-packages (4.9.0.80)\n",
      "Requirement already satisfied: numpy in c:\\users\\danish\\anaconda3\\envs\\myenv\\lib\\site-packages (1.24.4)\n",
      "Note: you may need to restart the kernel to use updated packages.\n"
     ]
    },
    {
     "name": "stderr",
     "output_type": "stream",
     "text": [
      "WARNING: Ignoring invalid distribution -rotobuf (c:\\users\\danish\\anaconda3\\envs\\myenv\\lib\\site-packages)\n",
      "WARNING: Ignoring invalid distribution -rotobuf (c:\\users\\danish\\anaconda3\\envs\\myenv\\lib\\site-packages)\n"
     ]
    }
   ],
   "source": [
    "%pip install opencv-python numpy"
   ]
  },
  {
   "cell_type": "markdown",
   "id": "f9edd766",
   "metadata": {},
   "source": [
    "\n",
    "## Import Libraries"
   ]
  },
  {
   "cell_type": "code",
   "execution_count": 6,
   "id": "becc56d1",
   "metadata": {},
   "outputs": [],
   "source": [
    "import cv2\n",
    "import numpy as np"
   ]
  },
  {
   "cell_type": "markdown",
   "id": "81b68f37",
   "metadata": {},
   "source": [
    "## Main Code"
   ]
  },
  {
   "cell_type": "code",
   "execution_count": 7,
   "id": "38ef3538",
   "metadata": {},
   "outputs": [],
   "source": [
    "# sets a minimum contour area threshold for filtering out contours that are too small to be a car\n",
    "MIN_CONTOUR_AREA = 4000"
   ]
  },
  {
   "cell_type": "code",
   "execution_count": 8,
   "id": "ea9ea537",
   "metadata": {},
   "outputs": [],
   "source": [
    "video = cv2.VideoCapture(\"Traffic_Laramie_1.mp4\")\n",
    "assert video.isOpened(), \"Can't open the video file\"\n",
    "\n",
    "# initializes a K-nearest neighbors background subtractor with specific parameters such as disabling shadow detection\n",
    "bg_subtractor = cv2.createBackgroundSubtractorKNN(detectShadows = False, history = 10000, dist2Threshold = 900)\n",
    "\n",
    "# creates a window with the title \"Cam\" for displaying the video frames processed\n",
    "cv2.namedWindow(\"Cam\")\n",
    "\n",
    "# analyzes the video on a frame-by-frame basis\n",
    "while True:\n",
    "    ret, frame = video.read()\n",
    "\n",
    "    # checks if the video frame was successfully read. If not, it breaks out of the loop\n",
    "    if not ret:\n",
    "        break\n",
    "\n",
    "    # applies Gaussian blur to the frame, removing high-frequency components like noise and edges\n",
    "    blured_frame = cv2.GaussianBlur(frame, (5, 5), 0)\n",
    "\n",
    "    # applies the background subtraction algorithm to the blurred frame\n",
    "    fg_mask = bg_subtractor.apply(blured_frame)\n",
    "\n",
    "    # applies a threshold to the foreground mask to eliminate shadows\n",
    "    _, fg_mask = cv2.threshold(fg_mask, 100, 255, cv2.THRESH_BINARY)\n",
    "\n",
    "    # applies morphological closing operation on the foreground mask \n",
    "    # to fill in gaps and smooth the contours of detected objects\n",
    "    kernel = cv2.getStructuringElement(cv2.MORPH_ELLIPSE, (5, 5))\n",
    "    fg_mask = cv2.morphologyEx(fg_mask, cv2.MORPH_CLOSE, kernel, iterations=2)\n",
    "\n",
    "    # finds the contours of objects in the foreground mask\n",
    "    contours, _ = cv2.findContours(fg_mask, cv2.RETR_EXTERNAL, cv2.CHAIN_APPROX_SIMPLE)\n",
    "\n",
    "    # filters out small contours with an area smaller than the specified minimum contour area\n",
    "    contours = [c for c in contours if cv2.contourArea(c) > MIN_CONTOUR_AREA]\n",
    "\n",
    "    # excludes contours in the top half of the frame to focus on cars moving along Main Street\n",
    "    contours = [c for c in contours if cv2.boundingRect(c)[1] > frame.shape[0] / 2]\n",
    "\n",
    "    # gets clean contours without holes by applying the convex hull algorithm to each contour in the list\n",
    "    contours = [cv2.convexHull(c) for c in contours]\n",
    "\n",
    "    bboxes = []\n",
    "\n",
    "    # calculates the bounding boxes of the contours and store them in the 'bboxes' list\n",
    "    for contour in contours:\n",
    "        (x, y, w, h) = cv2.boundingRect(contour)\n",
    "        bboxes.append([x, y, x + w, y + h])\n",
    "\n",
    "    # draws bounding boxes around the detected objects on the frame using the coordinates stored in the 'bboxes' list\n",
    "    for [x, y, x2, y2] in bboxes:\n",
    "        cv2.rectangle(frame, (x, y), (x2, y2), (0, 255, 0), 1)\n",
    "\n",
    "    cv2.imshow(\"Cam\", frame)\n",
    "\n",
    "    # closes the window titled \"Cam\" when the 'q' key is pressed and exit the loop\n",
    "    if cv2.waitKey(1) & 0xFF == ord('q'):\n",
    "        cv2.destroyWindow(\"Cam\")\n",
    "        cv2.waitKey(1)\n",
    "        break"
   ]
  }
 ],
 "metadata": {
  "kernelspec": {
   "display_name": "Python 3 (ipykernel)",
   "language": "python",
   "name": "python3"
  },
  "language_info": {
   "codemirror_mode": {
    "name": "ipython",
    "version": 3
   },
   "file_extension": ".py",
   "mimetype": "text/x-python",
   "name": "python",
   "nbconvert_exporter": "python",
   "pygments_lexer": "ipython3",
   "version": "3.10.12"
  }
 },
 "nbformat": 4,
 "nbformat_minor": 5
}
